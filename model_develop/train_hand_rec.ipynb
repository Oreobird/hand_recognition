{
  "cells": [
    {
      "cell_type": "markdown",
      "metadata": {
        "id": "QZoQeP4t9o5R"
      },
      "source": [
        "Setup conda environment"
      ]
    },
    {
      "cell_type": "code",
      "execution_count": null,
      "metadata": {
        "colab": {
          "base_uri": "https://localhost:8080/"
        },
        "id": "ZTBx5ZLT8kLt",
        "outputId": "023f75d5-0a5f-41e3-af92-c6ddc8da7c01"
      },
      "outputs": [],
      "source": [
        "%env PYTHONPATH = # /env/python\n",
        "!wget https://repo.anaconda.com/miniconda/Miniconda3-py38_4.12.0-Linux-x86_64.sh\n",
        "!chmod +x Miniconda3-py38_4.12.0-Linux-x86_64.sh\n",
        "!./Miniconda3-py38_4.12.0-Linux-x86_64.sh -b -f -p /usr/local\n",
        "!conda update conda -y\n",
        "import sys\n",
        "sys.path.append('/usr/local/lib/python3.8/site-packages')\n",
        "!conda create -n myenv python=3.7 -y"
      ]
    },
    {
      "cell_type": "code",
      "execution_count": null,
      "metadata": {
        "colab": {
          "base_uri": "https://localhost:8080/"
        },
        "id": "7AwlZuYR1Tip",
        "outputId": "31083a90-2a52-45ef-d4f5-57339896176f"
      },
      "outputs": [],
      "source": [
        "%%shell\n",
        "eval \"$(conda shell.bash hook)\"\n",
        "conda activate myenv\n",
        "pip install numpy\n",
        "pip install numba==0.53.1\n",
        "pip install protobuf==3.20.0\n",
        "pip install onnx==1.9.0\n",
        "pip install onnxruntime==1.9.0\n",
        "pip install onnxoptimizer==0.2.6\n",
        "pip install sympy\n",
        "pip install pillow\n",
        "pip install tensorflow\n",
        "pip install tf2onnx\n",
        "pip install scikit-learn"
      ]
    },
    {
      "cell_type": "markdown",
      "metadata": {
        "id": "jixb_iRM99Mg"
      },
      "source": [
        "Mount google drive and download esp-dl source code"
      ]
    },
    {
      "cell_type": "code",
      "execution_count": null,
      "metadata": {
        "colab": {
          "base_uri": "https://localhost:8080/"
        },
        "id": "x1EFDCVizBBa",
        "outputId": "c59d3fd1-2fa7-4d69-ea0d-6ec6fd4e7a71"
      },
      "outputs": [],
      "source": [
        "from google.colab import drive\n",
        "drive.mount('/content/drive')\n",
        "!git clone --recursive --depth=1 https://github.com/espressif/esp-dl.git /content/drive/MyDrive/hand_recognition/esp-dl"
      ]
    },
    {
      "cell_type": "markdown",
      "metadata": {
        "id": "_MTjBvJtlWEL"
      },
      "source": [
        "Prepare data"
      ]
    },
    {
      "cell_type": "code",
      "execution_count": null,
      "metadata": {
        "id": "5ZmGDy6flVLU"
      },
      "outputs": [],
      "source": [
        "%%shell\n",
        "eval \"$(conda shell.bash hook)\"\n",
        "conda activate myenv\n",
        "python3 /content/drive/MyDrive/hand_recognition/prepare_data.py"
      ]
    },
    {
      "cell_type": "markdown",
      "metadata": {
        "id": "0SgWeSVy3QLI"
      },
      "source": [
        "Train model"
      ]
    },
    {
      "cell_type": "code",
      "execution_count": null,
      "metadata": {
        "colab": {
          "base_uri": "https://localhost:8080/"
        },
        "id": "WjiAlod5A--k",
        "outputId": "2fa42d92-176a-4f18-ff64-d847d4afb9ed"
      },
      "outputs": [],
      "source": [
        "%%shell\n",
        "eval \"$(conda shell.bash hook)\"\n",
        "conda activate myenv\n",
        "python3 /content/drive/MyDrive/hand_recognition/train.py"
      ]
    },
    {
      "cell_type": "markdown",
      "metadata": {
        "id": "IiaIXWmF3V45"
      },
      "source": [
        "Convert model to onnx format"
      ]
    },
    {
      "cell_type": "code",
      "execution_count": null,
      "metadata": {
        "id": "EQKYAdOZ1-VZ"
      },
      "outputs": [],
      "source": [
        "%%shell\n",
        "eval \"$(conda shell.bash hook)\"\n",
        "conda activate myenv\n",
        "wd='/content/drive/MyDrive/hand_recognition/trained_model'\n",
        "python -m tf2onnx.convert --saved-model $wd/tmp_model --output $wd/hand_rec_model.onnx"
      ]
    },
    {
      "cell_type": "markdown",
      "metadata": {
        "id": "k90g5hmq3eEr"
      },
      "source": [
        "Use esp-dl quantization tool to quantize and generate .cpp/.hpp files for deployment"
      ]
    },
    {
      "cell_type": "code",
      "execution_count": null,
      "metadata": {
        "id": "cze1T0AOA7PN"
      },
      "outputs": [],
      "source": [
        "%%shell\n",
        "eval \"$(conda shell.bash hook)\"\n",
        "conda activate myenv\n",
        "wd='/content/drive/MyDrive/hand_recognition/'\n",
        "python /$wd/esp_dl_quant.py -e $wd/esp-dl -m $wd/trained_model/hand_rec_model.onnx -t esp32 -x $wd/data/X_cal.pkl -y $wd/data/y_cal.pkl -o $wd/trained_model/"
      ]
    }
  ],
  "metadata": {
    "colab": {
      "provenance": []
    },
    "kernelspec": {
      "display_name": "Python 3",
      "name": "python3"
    },
    "language_info": {
      "name": "python"
    }
  },
  "nbformat": 4,
  "nbformat_minor": 0
}
